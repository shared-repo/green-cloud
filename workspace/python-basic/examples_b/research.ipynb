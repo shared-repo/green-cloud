{
 "cells": [
  {
   "cell_type": "code",
   "execution_count": 1,
   "metadata": {},
   "outputs": [
    {
     "name": "stdout",
     "output_type": "stream",
     "text": [
      "------------------------> app.py 1\n",
      "------------------------> app\n"
     ]
    }
   ],
   "source": [
    "import app # app.py를 실행하세요"
   ]
  },
  {
   "cell_type": "code",
   "execution_count": 2,
   "metadata": {},
   "outputs": [
    {
     "name": "stdout",
     "output_type": "stream",
     "text": [
      "a 1\n",
      "b 2\n",
      "c 3\n",
      "d 4\n",
      "e 5\n"
     ]
    },
    {
     "data": {
      "text/plain": [
       "{'a': 1, 'b': 2, 'c': 3, 'd': 4, 'e': 5}"
      ]
     },
     "execution_count": 2,
     "metadata": {},
     "output_type": "execute_result"
    }
   ],
   "source": [
    "a = [1, 2, 3, 4, 5]\n",
    "b = ['a', 'b', 'c', 'd', 'e']\n",
    "\n",
    "# zip(b, a) # ( ('a', 1), ('b', 2), ('c', 3), ('d', 4), ('e', 5) )\n",
    "for b1, a1 in zip(b, a):\n",
    "    print (b1, a1)\n",
    "\n",
    "{b1:a1 for b1, a1 in zip(b, a)}"
   ]
  }
 ],
 "metadata": {
  "kernelspec": {
   "display_name": "green-env",
   "language": "python",
   "name": "python3"
  },
  "language_info": {
   "codemirror_mode": {
    "name": "ipython",
    "version": 3
   },
   "file_extension": ".py",
   "mimetype": "text/x-python",
   "name": "python",
   "nbconvert_exporter": "python",
   "pygments_lexer": "ipython3",
   "version": "3.12.4"
  }
 },
 "nbformat": 4,
 "nbformat_minor": 2
}
