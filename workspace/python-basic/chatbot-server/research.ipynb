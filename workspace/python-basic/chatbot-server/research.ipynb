{
 "cells": [
  {
   "cell_type": "code",
   "execution_count": 1,
   "metadata": {},
   "outputs": [],
   "source": [
    "import pickle\n",
    "\n",
    "with open('data-files/jobkorea-webdeveloper-detail-20240707.pickle', 'rb') as f:\n",
    "    data_list = pickle.load(f)"
   ]
  },
  {
   "cell_type": "code",
   "execution_count": 5,
   "metadata": {},
   "outputs": [
    {
     "name": "stdout",
     "output_type": "stream",
     "text": [
      "{'회사명': '넥센타이어', '회사링크': 'https://www.jobkorea.co.kr/Recruit/Co_Read/C/38575164', '제목': '2024 넥센타이어 국내영업직 수시채용', '상세링크': 'https://www.jobkorea.co.kr/Recruit/GI_Read/45065235?rPageCode=AM&logpath=21&sn=6', '기타': '경력무관,초대졸↑,강원,정규직,', '상세정보': '자동차영업, 거래처관리, 영업기획, 데이터분석, 영업전략, 가맹점관리, 대리점관리, 장비영업, 거래선개발관리, 매출관리, 고객관리, 국내영업', '경력': '경력무관', '학력': '초대졸이상(졸업예정자가능)', '스킬': '운전면허', '핵심역량': '계획성,성실성,꼼꼼함', '우대': '기본우대취업보호대상자', '기본우대': '취업보호대상자,보훈대상자', '고용형태': '정규직수습3개월', '급여': '회사내규에따름-면접후결정', '지역': '강원도원주시,전국'}\n"
     ]
    }
   ],
   "source": [
    "for info in data_list['data']:\n",
    "    print(info)\n",
    "    break"
   ]
  },
  {
   "cell_type": "code",
   "execution_count": null,
   "metadata": {},
   "outputs": [],
   "source": [
    "for idx, info in enumerate(data_list['data']): # enumerate : 순서번호도 함께 반환\n",
    "    print(idx)\n",
    "    if idx == 5:\n",
    "        break"
   ]
  },
  {
   "cell_type": "code",
   "execution_count": 8,
   "metadata": {},
   "outputs": [
    {
     "data": {
      "text/plain": [
       "['넥센타이어', '엔카닷컴㈜', '샘표식품㈜', '㈜케이티앤지']"
      ]
     },
     "execution_count": 8,
     "metadata": {},
     "output_type": "execute_result"
    }
   ],
   "source": [
    "[ info['회사명'] for idx, info in enumerate(data_list['data']) if idx <= 3 ]"
   ]
  }
 ],
 "metadata": {
  "kernelspec": {
   "display_name": "green-env",
   "language": "python",
   "name": "python3"
  },
  "language_info": {
   "codemirror_mode": {
    "name": "ipython",
    "version": 3
   },
   "file_extension": ".py",
   "mimetype": "text/x-python",
   "name": "python",
   "nbconvert_exporter": "python",
   "pygments_lexer": "ipython3",
   "version": "3.12.4"
  }
 },
 "nbformat": 4,
 "nbformat_minor": 2
}
