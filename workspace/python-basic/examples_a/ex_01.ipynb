{
 "cells": [
  {
   "cell_type": "code",
   "execution_count": 3,
   "metadata": {},
   "outputs": [],
   "source": [
    "def f() :\n",
    "    print('test')\n",
    "    print('test2')\n"
   ]
  },
  {
   "cell_type": "code",
   "execution_count": 2,
   "metadata": {},
   "outputs": [
    {
     "name": "stdout",
     "output_type": "stream",
     "text": [
      "test\n"
     ]
    }
   ],
   "source": [
    "str = \"hello 1\" + \\\n",
    "      \"hello 2\""
   ]
  },
  {
   "cell_type": "code",
   "execution_count": 5,
   "metadata": {},
   "outputs": [
    {
     "name": "stdout",
     "output_type": "stream",
     "text": [
      "<class 'int'> <class 'str'> <class 'bool'>\n"
     ]
    }
   ],
   "source": [
    "'hello'\n",
    "\"hello\"\n",
    "\n",
    "'''test\n",
    "test'''\n",
    "\"\"\"a;skdljfa;jskdlf\n",
    ";lajskdf\"\"\"\n",
    "\n",
    "a = 10\n",
    "b = \"hello\"\n",
    "c = True # False\n",
    "print(type(a), type(b), type(c))"
   ]
  },
  {
   "cell_type": "code",
   "execution_count": 8,
   "metadata": {},
   "outputs": [
    {
     "name": "stdout",
     "output_type": "stream",
     "text": [
      "3.3333333333333335 3 1\n"
     ]
    }
   ],
   "source": [
    "a = 10 / 3\n",
    "b = 10 // 3\n",
    "c = 10 % 3\n",
    "print(a, b, c)"
   ]
  },
  {
   "cell_type": "code",
   "execution_count": 10,
   "metadata": {},
   "outputs": [
    {
     "name": "stdout",
     "output_type": "stream",
     "text": [
      "HelloHello\n",
      "l\n"
     ]
    }
   ],
   "source": [
    "print( \"Hello\" * 2 )\n",
    "print( \"Hello\"[3] )"
   ]
  }
 ],
 "metadata": {
  "kernelspec": {
   "display_name": "green-env",
   "language": "python",
   "name": "python3"
  },
  "language_info": {
   "codemirror_mode": {
    "name": "ipython",
    "version": 3
   },
   "file_extension": ".py",
   "mimetype": "text/x-python",
   "name": "python",
   "nbconvert_exporter": "python",
   "pygments_lexer": "ipython3",
   "version": "3.12.4"
  }
 },
 "nbformat": 4,
 "nbformat_minor": 2
}
